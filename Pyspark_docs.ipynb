{
  "nbformat": 4,
  "nbformat_minor": 0,
  "metadata": {
    "colab": {
      "name": "Pyspark docs.ipynb",
      "provenance": [],
      "authorship_tag": "ABX9TyNdN+/3/WYlYWMiV9sQu7/s"
    },
    "kernelspec": {
      "name": "python3",
      "display_name": "Python 3"
    },
    "language_info": {
      "name": "python"
    }
  },
  "cells": [
    {
      "cell_type": "code",
      "metadata": {
        "id": "A9m3Ixeq-R21"
      },
      "source": [
        "# 1. Install all the dependencies in Colab environment i.e. Apache Spark 2.4.4 with hadoop 2.7, Java 8 and Findspark to locate the spark in the system\n",
        "!apt-get install openjdk-8-jdk-headless -qq > /dev/null"
      ],
      "execution_count": 3,
      "outputs": []
    },
    {
      "cell_type": "code",
      "metadata": {
        "id": "AjNoFyOr_-g3"
      },
      "source": [
        "!wget -q https://downloads.apache.org/spark/spark-3.1.2/spark-3.1.2-bin-hadoop2.7.tgz"
      ],
      "execution_count": 4,
      "outputs": []
    },
    {
      "cell_type": "code",
      "metadata": {
        "id": "s0h4pTyeA_3_"
      },
      "source": [
        "!tar xf spark-3.1.2-bin-hadoop2.7.tgz"
      ],
      "execution_count": 5,
      "outputs": []
    },
    {
      "cell_type": "code",
      "metadata": {
        "id": "a5vfp7kE_-kZ"
      },
      "source": [
        "!pip install -q findspark"
      ],
      "execution_count": 6,
      "outputs": []
    },
    {
      "cell_type": "code",
      "metadata": {
        "id": "QsZYB3Di-V9m"
      },
      "source": [
        "# 2. Setup Environment Variables\n",
        "import os\n",
        "os.environ[\"JAVA_HOME\"] = \"/usr/lib/jvm/java-8-openjdk-amd64\"\n",
        "os.environ[\"SPARK_HOME\"] = \"/content/spark-3.1.2-bin-hadoop2.7\""
      ],
      "execution_count": 7,
      "outputs": []
    },
    {
      "cell_type": "code",
      "metadata": {
        "id": "xhsnwhzq-WJx"
      },
      "source": [
        "# 3. Start Spark Session\n",
        "#PySpark applications start with initializing SparkSession which is the entry point of PySpark\n",
        "import findspark\n",
        "findspark.init()\n",
        "from pyspark.sql import SparkSession\n",
        "spark = SparkSession.builder.master(\"local[*]\").getOrCreate()"
      ],
      "execution_count": 8,
      "outputs": []
    },
    {
      "cell_type": "code",
      "metadata": {
        "id": "kGOijwJM-WRy",
        "colab": {
          "base_uri": "https://localhost:8080/"
        },
        "outputId": "6aebe233-0e09-4625-8ab5-2b58ce50d511"
      },
      "source": [
        "#Create Dataframe\n",
        "#A PySpark DataFrame can be created via pyspark.sql.SparkSession.createDataFrame typically by passing a list of lists, tuples, dictionaries and pyspark.sql.Rows, a pandas DataFrame and an RDD consisting of such a list.\n",
        "df = spark.createDataFrame([{\"Spark on\": \"Jupyter\"} for x in range(1000)])\n",
        "df.show(5)"
      ],
      "execution_count": 9,
      "outputs": [
        {
          "output_type": "stream",
          "name": "stdout",
          "text": [
            "+--------+\n",
            "|Spark on|\n",
            "+--------+\n",
            "| Jupyter|\n",
            "| Jupyter|\n",
            "| Jupyter|\n",
            "| Jupyter|\n",
            "| Jupyter|\n",
            "+--------+\n",
            "only showing top 5 rows\n",
            "\n"
          ]
        }
      ]
    },
    {
      "cell_type": "code",
      "metadata": {
        "colab": {
          "base_uri": "https://localhost:8080/"
        },
        "id": "c6S8yPRyBPqJ",
        "outputId": "6adcacb0-7245-4029-8000-c7fb0a609c3d"
      },
      "source": [
        "\"\"\"pyspark.sql.SparkSession.createDataFrame takes the schema \n",
        "argument to specify the schema of the DataFrame. When it is omitted, PySpark infers the corresponding schema by taking a sample from the data.\"\"\"\n",
        "\n",
        "from datetime import datetime, date\n",
        "import pandas as pd\n",
        "from pyspark.sql import Row\n",
        "\n",
        "df = spark.createDataFrame([\n",
        "    Row(a=1, b=2., c='string1', d=date(2000, 1, 1), e=datetime(2000, 1, 1, 12, 0)),\n",
        "    Row(a=2, b=3., c='string2', d=date(2000, 2, 1), e=datetime(2000, 1, 2, 12, 0)),\n",
        "    Row(a=4, b=5., c='string3', d=date(2000, 3, 1), e=datetime(2000, 1, 3, 12, 0))\n",
        "])\n",
        "df\n"
      ],
      "execution_count": 10,
      "outputs": [
        {
          "output_type": "execute_result",
          "data": {
            "text/plain": [
              "DataFrame[a: bigint, b: double, c: string, d: date, e: timestamp]"
            ]
          },
          "metadata": {},
          "execution_count": 10
        }
      ]
    },
    {
      "cell_type": "code",
      "metadata": {
        "colab": {
          "base_uri": "https://localhost:8080/"
        },
        "id": "il91GnHrJOIA",
        "outputId": "dd3fbd68-6fa6-4789-e825-935974943058"
      },
      "source": [
        "#Create a PySpark DataFrame with an explicit schema.\n",
        "df = spark.createDataFrame([\n",
        "    (1, 2., 'string1', date(2000, 1, 1), datetime(2000, 1, 1, 12, 0)),\n",
        "    (2, 3., 'string2', date(2000, 2, 1), datetime(2000, 1, 2, 12, 0)),\n",
        "    (3, 4., 'string3', date(2000, 3, 1), datetime(2000, 1, 3, 12, 0))\n",
        "], schema='a long, b double, c string, d date, e timestamp')\n",
        "df"
      ],
      "execution_count": 11,
      "outputs": [
        {
          "output_type": "execute_result",
          "data": {
            "text/plain": [
              "DataFrame[a: bigint, b: double, c: string, d: date, e: timestamp]"
            ]
          },
          "metadata": {},
          "execution_count": 11
        }
      ]
    },
    {
      "cell_type": "code",
      "metadata": {
        "colab": {
          "base_uri": "https://localhost:8080/"
        },
        "id": "DiVWOkHPJSkO",
        "outputId": "5f00eb6e-4ff0-4259-b897-60965fc2f279"
      },
      "source": [
        "#Create a PySpark DataFrame from a pandas DataFrame\n",
        "pandas_df = pd.DataFrame({\n",
        "    'a': [1, 2, 3],\n",
        "    'b': [2., 3., 4.],\n",
        "    'c': ['string1', 'string2', 'string3'],\n",
        "    'd': [date(2000, 1, 1), date(2000, 2, 1), date(2000, 3, 1)],\n",
        "    'e': [datetime(2000, 1, 1, 12, 0), datetime(2000, 1, 2, 12, 0), datetime(2000, 1, 3, 12, 0)]\n",
        "})\n",
        "df = spark.createDataFrame(pandas_df)\n",
        "df"
      ],
      "execution_count": 12,
      "outputs": [
        {
          "output_type": "execute_result",
          "data": {
            "text/plain": [
              "DataFrame[a: bigint, b: double, c: string, d: date, e: timestamp]"
            ]
          },
          "metadata": {},
          "execution_count": 12
        }
      ]
    },
    {
      "cell_type": "code",
      "metadata": {
        "colab": {
          "base_uri": "https://localhost:8080/"
        },
        "id": "L4X41mUzJWW_",
        "outputId": "1586a3f3-2585-4e18-ca88-a84e3096ca99"
      },
      "source": [
        "#Create a PySpark DataFrame from an RDD consisting of a list of tuples\n",
        "rdd = spark.sparkContext.parallelize([\n",
        "    (1, 2., 'string1', date(2000, 1, 1), datetime(2000, 1, 1, 12, 0)),\n",
        "    (2, 3., 'string2', date(2000, 2, 1), datetime(2000, 1, 2, 12, 0)),\n",
        "    (3, 4., 'string3', date(2000, 3, 1), datetime(2000, 1, 3, 12, 0))\n",
        "])\n",
        "df = spark.createDataFrame(rdd, schema=['a', 'b', 'c', 'd', 'e'])\n",
        "df"
      ],
      "execution_count": 13,
      "outputs": [
        {
          "output_type": "execute_result",
          "data": {
            "text/plain": [
              "DataFrame[a: bigint, b: double, c: string, d: date, e: timestamp]"
            ]
          },
          "metadata": {},
          "execution_count": 13
        }
      ]
    },
    {
      "cell_type": "code",
      "metadata": {
        "colab": {
          "base_uri": "https://localhost:8080/"
        },
        "id": "-vSRPKhIJag_",
        "outputId": "b1c423b6-5788-4207-f00a-5eb943b03859"
      },
      "source": [
        "df.show()\n",
        "df.printSchema()"
      ],
      "execution_count": 14,
      "outputs": [
        {
          "output_type": "stream",
          "name": "stdout",
          "text": [
            "+---+---+-------+----------+-------------------+\n",
            "|  a|  b|      c|         d|                  e|\n",
            "+---+---+-------+----------+-------------------+\n",
            "|  1|2.0|string1|2000-01-01|2000-01-01 12:00:00|\n",
            "|  2|3.0|string2|2000-02-01|2000-01-02 12:00:00|\n",
            "|  3|4.0|string3|2000-03-01|2000-01-03 12:00:00|\n",
            "+---+---+-------+----------+-------------------+\n",
            "\n",
            "root\n",
            " |-- a: long (nullable = true)\n",
            " |-- b: double (nullable = true)\n",
            " |-- c: string (nullable = true)\n",
            " |-- d: date (nullable = true)\n",
            " |-- e: timestamp (nullable = true)\n",
            "\n"
          ]
        }
      ]
    },
    {
      "cell_type": "code",
      "metadata": {
        "colab": {
          "base_uri": "https://localhost:8080/"
        },
        "id": "yk-xFmjdJhvY",
        "outputId": "5da887dd-8ce3-48af-b752-03dfcebd8011"
      },
      "source": [
        "df.show(1)"
      ],
      "execution_count": 15,
      "outputs": [
        {
          "output_type": "stream",
          "name": "stdout",
          "text": [
            "+---+---+-------+----------+-------------------+\n",
            "|  a|  b|      c|         d|                  e|\n",
            "+---+---+-------+----------+-------------------+\n",
            "|  1|2.0|string1|2000-01-01|2000-01-01 12:00:00|\n",
            "+---+---+-------+----------+-------------------+\n",
            "only showing top 1 row\n",
            "\n"
          ]
        }
      ]
    },
    {
      "cell_type": "code",
      "metadata": {
        "colab": {
          "base_uri": "https://localhost:8080/",
          "height": 113
        },
        "id": "NAvPdctbJmou",
        "outputId": "1c19a84a-ca42-469c-b7bd-3f524278fb71"
      },
      "source": [
        "\"\"\"Enable spark.sql.repl.eagerEval.enabled configuration for the eager evaluation of PySpark DataFrame in notebooks such as Jupyter. \n",
        "The number of rows to show can be controlled via spark.sql.repl.eagerEval.maxNumRows configuration.\"\"\"\n",
        "\n",
        "spark.conf.set('spark.sql.repl.eagerEval.enabled', True)\n",
        "df\n"
      ],
      "execution_count": 17,
      "outputs": [
        {
          "output_type": "execute_result",
          "data": {
            "text/html": [
              "<table border='1'>\n",
              "<tr><th>a</th><th>b</th><th>c</th><th>d</th><th>e</th></tr>\n",
              "<tr><td>1</td><td>2.0</td><td>string1</td><td>2000-01-01</td><td>2000-01-01 12:00:00</td></tr>\n",
              "<tr><td>2</td><td>3.0</td><td>string2</td><td>2000-02-01</td><td>2000-01-02 12:00:00</td></tr>\n",
              "<tr><td>3</td><td>4.0</td><td>string3</td><td>2000-03-01</td><td>2000-01-03 12:00:00</td></tr>\n",
              "</table>\n"
            ],
            "text/plain": [
              "DataFrame[a: bigint, b: double, c: string, d: date, e: timestamp]"
            ]
          },
          "metadata": {},
          "execution_count": 17
        }
      ]
    },
    {
      "cell_type": "code",
      "metadata": {
        "colab": {
          "base_uri": "https://localhost:8080/"
        },
        "id": "TXHksXmGJ7Rc",
        "outputId": "1da06d67-ae2f-47c0-99da-8d158a0ee62b"
      },
      "source": [
        "#The rows can also be shown vertically. This is useful when rows are too long to show horizontally\n",
        "df.show(1, vertical=True)"
      ],
      "execution_count": 18,
      "outputs": [
        {
          "output_type": "stream",
          "name": "stdout",
          "text": [
            "-RECORD 0------------------\n",
            " a   | 1                   \n",
            " b   | 2.0                 \n",
            " c   | string1             \n",
            " d   | 2000-01-01          \n",
            " e   | 2000-01-01 12:00:00 \n",
            "only showing top 1 row\n",
            "\n"
          ]
        }
      ]
    },
    {
      "cell_type": "code",
      "metadata": {
        "colab": {
          "base_uri": "https://localhost:8080/"
        },
        "id": "mUF310WGKOOn",
        "outputId": "7419dc98-2ba9-48cb-8db0-5b90f6899adf"
      },
      "source": [
        "df.columns"
      ],
      "execution_count": 19,
      "outputs": [
        {
          "output_type": "execute_result",
          "data": {
            "text/plain": [
              "['a', 'b', 'c', 'd', 'e']"
            ]
          },
          "metadata": {},
          "execution_count": 19
        }
      ]
    },
    {
      "cell_type": "code",
      "metadata": {
        "colab": {
          "base_uri": "https://localhost:8080/"
        },
        "id": "0vEoe8ezKQJX",
        "outputId": "5004d3da-9230-4c80-d49b-107c4f782dfb"
      },
      "source": [
        "df.printSchema()"
      ],
      "execution_count": 20,
      "outputs": [
        {
          "output_type": "stream",
          "name": "stdout",
          "text": [
            "root\n",
            " |-- a: long (nullable = true)\n",
            " |-- b: double (nullable = true)\n",
            " |-- c: string (nullable = true)\n",
            " |-- d: date (nullable = true)\n",
            " |-- e: timestamp (nullable = true)\n",
            "\n"
          ]
        }
      ]
    },
    {
      "cell_type": "code",
      "metadata": {
        "colab": {
          "base_uri": "https://localhost:8080/"
        },
        "id": "69pHCcHCKRsO",
        "outputId": "3c373a04-f02f-4a99-b3b5-27659b084823"
      },
      "source": [
        "#Summary of the DataFrame (select().describe().show())\n",
        "df.select(\"a\", \"b\", \"c\").describe().show()"
      ],
      "execution_count": 21,
      "outputs": [
        {
          "output_type": "stream",
          "name": "stdout",
          "text": [
            "+-------+---+---+-------+\n",
            "|summary|  a|  b|      c|\n",
            "+-------+---+---+-------+\n",
            "|  count|  3|  3|      3|\n",
            "|   mean|2.0|3.0|   null|\n",
            "| stddev|1.0|1.0|   null|\n",
            "|    min|  1|2.0|string1|\n",
            "|    max|  3|4.0|string3|\n",
            "+-------+---+---+-------+\n",
            "\n"
          ]
        }
      ]
    },
    {
      "cell_type": "code",
      "metadata": {
        "colab": {
          "base_uri": "https://localhost:8080/"
        },
        "id": "ptH-PgvaKcWH",
        "outputId": "7482333b-6e71-4c87-dd23-114d78adc487"
      },
      "source": [
        "\"\"\"DataFrame.collect() collects the distributed data to the driver side as the local data in Python. Note that this can throw an out-of-memory error when the dataset is too large\n",
        " to fit in the driver side because it collects all the data from executors to the driver side.\"\"\"\n",
        "\n",
        "df.collect()\n"
      ],
      "execution_count": 22,
      "outputs": [
        {
          "output_type": "execute_result",
          "data": {
            "text/plain": [
              "[Row(a=1, b=2.0, c='string1', d=datetime.date(2000, 1, 1), e=datetime.datetime(2000, 1, 1, 12, 0)),\n",
              " Row(a=2, b=3.0, c='string2', d=datetime.date(2000, 2, 1), e=datetime.datetime(2000, 1, 2, 12, 0)),\n",
              " Row(a=3, b=4.0, c='string3', d=datetime.date(2000, 3, 1), e=datetime.datetime(2000, 1, 3, 12, 0))]"
            ]
          },
          "metadata": {},
          "execution_count": 22
        }
      ]
    },
    {
      "cell_type": "code",
      "metadata": {
        "colab": {
          "base_uri": "https://localhost:8080/"
        },
        "id": "Y_r0Wn0-Kqe3",
        "outputId": "2275d40e-63f3-45bc-fe2a-e8c910859706"
      },
      "source": [
        "#avoid throwing an out-of-memory exception, use DataFrame.take() or DataFrame.tail().\n",
        "df.take(1)"
      ],
      "execution_count": 23,
      "outputs": [
        {
          "output_type": "execute_result",
          "data": {
            "text/plain": [
              "[Row(a=1, b=2.0, c='string1', d=datetime.date(2000, 1, 1), e=datetime.datetime(2000, 1, 1, 12, 0))]"
            ]
          },
          "metadata": {},
          "execution_count": 23
        }
      ]
    },
    {
      "cell_type": "code",
      "metadata": {
        "colab": {
          "base_uri": "https://localhost:8080/"
        },
        "id": "MMz5t3J0Kwyn",
        "outputId": "763ed89e-3ee4-4305-f90d-5e3d433ceaaf"
      },
      "source": [
        "df.tail(2)"
      ],
      "execution_count": 25,
      "outputs": [
        {
          "output_type": "execute_result",
          "data": {
            "text/plain": [
              "[Row(a=2, b=3.0, c='string2', d=datetime.date(2000, 2, 1), e=datetime.datetime(2000, 1, 2, 12, 0)),\n",
              " Row(a=3, b=4.0, c='string3', d=datetime.date(2000, 3, 1), e=datetime.datetime(2000, 1, 3, 12, 0))]"
            ]
          },
          "metadata": {},
          "execution_count": 25
        }
      ]
    },
    {
      "cell_type": "code",
      "metadata": {
        "colab": {
          "base_uri": "https://localhost:8080/",
          "height": 143
        },
        "id": "jd9ngZnJKx-_",
        "outputId": "eff31094-2698-4aa2-d665-3b933c694a65"
      },
      "source": [
        "#toPandas also collects all data into the driver side that can easily cause an out-of-memory-error when the data is too large to fit into the driver side\n",
        "df.toPandas()"
      ],
      "execution_count": 27,
      "outputs": [
        {
          "output_type": "execute_result",
          "data": {
            "text/html": [
              "<div>\n",
              "<style scoped>\n",
              "    .dataframe tbody tr th:only-of-type {\n",
              "        vertical-align: middle;\n",
              "    }\n",
              "\n",
              "    .dataframe tbody tr th {\n",
              "        vertical-align: top;\n",
              "    }\n",
              "\n",
              "    .dataframe thead th {\n",
              "        text-align: right;\n",
              "    }\n",
              "</style>\n",
              "<table border=\"1\" class=\"dataframe\">\n",
              "  <thead>\n",
              "    <tr style=\"text-align: right;\">\n",
              "      <th></th>\n",
              "      <th>a</th>\n",
              "      <th>b</th>\n",
              "      <th>c</th>\n",
              "      <th>d</th>\n",
              "      <th>e</th>\n",
              "    </tr>\n",
              "  </thead>\n",
              "  <tbody>\n",
              "    <tr>\n",
              "      <th>0</th>\n",
              "      <td>1</td>\n",
              "      <td>2.0</td>\n",
              "      <td>string1</td>\n",
              "      <td>2000-01-01</td>\n",
              "      <td>2000-01-01 12:00:00</td>\n",
              "    </tr>\n",
              "    <tr>\n",
              "      <th>1</th>\n",
              "      <td>2</td>\n",
              "      <td>3.0</td>\n",
              "      <td>string2</td>\n",
              "      <td>2000-02-01</td>\n",
              "      <td>2000-01-02 12:00:00</td>\n",
              "    </tr>\n",
              "    <tr>\n",
              "      <th>2</th>\n",
              "      <td>3</td>\n",
              "      <td>4.0</td>\n",
              "      <td>string3</td>\n",
              "      <td>2000-03-01</td>\n",
              "      <td>2000-01-03 12:00:00</td>\n",
              "    </tr>\n",
              "  </tbody>\n",
              "</table>\n",
              "</div>"
            ],
            "text/plain": [
              "   a    b        c           d                   e\n",
              "0  1  2.0  string1  2000-01-01 2000-01-01 12:00:00\n",
              "1  2  3.0  string2  2000-02-01 2000-01-02 12:00:00\n",
              "2  3  4.0  string3  2000-03-01 2000-01-03 12:00:00"
            ]
          },
          "metadata": {},
          "execution_count": 27
        }
      ]
    },
    {
      "cell_type": "code",
      "metadata": {
        "colab": {
          "base_uri": "https://localhost:8080/"
        },
        "id": "WfaHuEreLl9u",
        "outputId": "80b5d51c-9d56-4531-8ad9-53cf181e340a"
      },
      "source": [
        "#Selecting and Accessing data\n",
        "#PySpark DataFrame is lazily evaluated and simply selecting a column does not trigger the computation but it returns a Column instance.\n",
        "\n",
        "df.a"
      ],
      "execution_count": 29,
      "outputs": [
        {
          "output_type": "execute_result",
          "data": {
            "text/plain": [
              "Column<'a'>"
            ]
          },
          "metadata": {},
          "execution_count": 29
        }
      ]
    },
    {
      "cell_type": "code",
      "metadata": {
        "colab": {
          "base_uri": "https://localhost:8080/"
        },
        "id": "ly-rcT3qMAkn",
        "outputId": "c23b916b-3525-4351-f7b2-c31086a584cb"
      },
      "source": [
        "type(df)"
      ],
      "execution_count": 30,
      "outputs": [
        {
          "output_type": "execute_result",
          "data": {
            "text/plain": [
              "pyspark.sql.dataframe.DataFrame"
            ]
          },
          "metadata": {},
          "execution_count": 30
        }
      ]
    },
    {
      "cell_type": "code",
      "metadata": {
        "colab": {
          "base_uri": "https://localhost:8080/"
        },
        "id": "SjgSD9j2MKBe",
        "outputId": "26061068-3cd8-4a72-d70d-7dc25d5e201a"
      },
      "source": [
        "#most of column-wise operations return Columns\n",
        "from pyspark.sql import Column\n",
        "from pyspark.sql.functions import upper\n",
        "type(df.c) == type(upper(df.c)) == type(df.c.isNull())"
      ],
      "execution_count": 31,
      "outputs": [
        {
          "output_type": "execute_result",
          "data": {
            "text/plain": [
              "True"
            ]
          },
          "metadata": {},
          "execution_count": 31
        }
      ]
    },
    {
      "cell_type": "code",
      "metadata": {
        "colab": {
          "base_uri": "https://localhost:8080/"
        },
        "id": "yQmTXfQCMtPK",
        "outputId": "909182ac-a5b1-4528-e44e-545f5a196e39"
      },
      "source": [
        "#Columns can be used to select the columns from a DataFrame. For example, DataFrame.select() takes the Column instances that returns another DataFrame.\n",
        "df.select(df.c).show()"
      ],
      "execution_count": 33,
      "outputs": [
        {
          "output_type": "stream",
          "name": "stdout",
          "text": [
            "+-------+\n",
            "|      c|\n",
            "+-------+\n",
            "|string1|\n",
            "|string2|\n",
            "|string3|\n",
            "+-------+\n",
            "\n"
          ]
        }
      ]
    },
    {
      "cell_type": "code",
      "metadata": {
        "colab": {
          "base_uri": "https://localhost:8080/"
        },
        "id": "Ky3IVfyAM5Ab",
        "outputId": "e5488a40-f640-4344-b769-19a8d7d46916"
      },
      "source": [
        "#Assign new Column instance\n",
        "df.withColumn('upper_c',upper(df.c)).show()"
      ],
      "execution_count": 34,
      "outputs": [
        {
          "output_type": "stream",
          "name": "stdout",
          "text": [
            "+---+---+-------+----------+-------------------+-------+\n",
            "|  a|  b|      c|         d|                  e|upper_c|\n",
            "+---+---+-------+----------+-------------------+-------+\n",
            "|  1|2.0|string1|2000-01-01|2000-01-01 12:00:00|STRING1|\n",
            "|  2|3.0|string2|2000-02-01|2000-01-02 12:00:00|STRING2|\n",
            "|  3|4.0|string3|2000-03-01|2000-01-03 12:00:00|STRING3|\n",
            "+---+---+-------+----------+-------------------+-------+\n",
            "\n"
          ]
        }
      ]
    },
    {
      "cell_type": "code",
      "metadata": {
        "colab": {
          "base_uri": "https://localhost:8080/"
        },
        "id": "x68NqhdENPGu",
        "outputId": "ee259ded-1a81-483a-ce6a-9ebf48ff518e"
      },
      "source": [
        "#To select a subset of rows, use DataFrame.filter()\n",
        "df.filter(df.a == 1).withColumn('upper_c',upper(df.c)).show()"
      ],
      "execution_count": 36,
      "outputs": [
        {
          "output_type": "stream",
          "name": "stdout",
          "text": [
            "+---+---+-------+----------+-------------------+-------+\n",
            "|  a|  b|      c|         d|                  e|upper_c|\n",
            "+---+---+-------+----------+-------------------+-------+\n",
            "|  1|2.0|string1|2000-01-01|2000-01-01 12:00:00|STRING1|\n",
            "+---+---+-------+----------+-------------------+-------+\n",
            "\n"
          ]
        }
      ]
    },
    {
      "cell_type": "code",
      "metadata": {
        "colab": {
          "base_uri": "https://localhost:8080/"
        },
        "id": "AxI0otS6NqCu",
        "outputId": "b6f0d03d-b421-48d8-c9e7-8937ab23ffa5"
      },
      "source": [
        "#Applying a function\n",
        "\"\"\"PySpark supports various UDFs and APIs to allow users to execute Python native functions. See also the latest Pandas UDFs and Pandas Function APIs. \n",
        "For instance, the example below allows users to directly use the APIs in a pandas Series within Python native function.\"\"\"\n",
        "\n",
        "import pandas as pd\n",
        "from pyspark.sql.functions import pandas_udf\n",
        "\n",
        "@pandas_udf('long')\n",
        "def pandas_plus_one(Series):\n",
        "  return Series+1\n",
        "\n",
        "df.select(pandas_plus_one(df.a)).show()"
      ],
      "execution_count": 42,
      "outputs": [
        {
          "output_type": "stream",
          "name": "stdout",
          "text": [
            "+------------------+\n",
            "|pandas_plus_one(a)|\n",
            "+------------------+\n",
            "|                 2|\n",
            "|                 3|\n",
            "|                 4|\n",
            "+------------------+\n",
            "\n"
          ]
        }
      ]
    },
    {
      "cell_type": "code",
      "metadata": {
        "colab": {
          "base_uri": "https://localhost:8080/"
        },
        "id": "7ndnu7kGP7F2",
        "outputId": "391e74bb-27c9-4ae2-9e13-9be55f2eb20f"
      },
      "source": [
        "#same as above\n",
        "import pandas\n",
        "from pyspark.sql.functions import pandas_udf\n",
        "\n",
        "@pandas_udf('long')\n",
        "def pandas_plus_one(series: pd.Series) -> pd.Series:\n",
        "    # Simply plus one by using pandas Series.\n",
        "    return series + 1\n",
        "\n",
        "df.select(pandas_plus_one(df.a)).show()"
      ],
      "execution_count": 43,
      "outputs": [
        {
          "output_type": "stream",
          "name": "stdout",
          "text": [
            "+------------------+\n",
            "|pandas_plus_one(a)|\n",
            "+------------------+\n",
            "|                 2|\n",
            "|                 3|\n",
            "|                 4|\n",
            "+------------------+\n",
            "\n"
          ]
        }
      ]
    },
    {
      "cell_type": "code",
      "metadata": {
        "colab": {
          "base_uri": "https://localhost:8080/",
          "height": 143
        },
        "id": "RsZNI-x9QZwN",
        "outputId": "59fb0a40-3f7f-4a88-b48c-4543d2107105"
      },
      "source": [
        "pandas_df"
      ],
      "execution_count": 44,
      "outputs": [
        {
          "output_type": "execute_result",
          "data": {
            "text/html": [
              "<div>\n",
              "<style scoped>\n",
              "    .dataframe tbody tr th:only-of-type {\n",
              "        vertical-align: middle;\n",
              "    }\n",
              "\n",
              "    .dataframe tbody tr th {\n",
              "        vertical-align: top;\n",
              "    }\n",
              "\n",
              "    .dataframe thead th {\n",
              "        text-align: right;\n",
              "    }\n",
              "</style>\n",
              "<table border=\"1\" class=\"dataframe\">\n",
              "  <thead>\n",
              "    <tr style=\"text-align: right;\">\n",
              "      <th></th>\n",
              "      <th>a</th>\n",
              "      <th>b</th>\n",
              "      <th>c</th>\n",
              "      <th>d</th>\n",
              "      <th>e</th>\n",
              "    </tr>\n",
              "  </thead>\n",
              "  <tbody>\n",
              "    <tr>\n",
              "      <th>0</th>\n",
              "      <td>1</td>\n",
              "      <td>2.0</td>\n",
              "      <td>string1</td>\n",
              "      <td>2000-01-01</td>\n",
              "      <td>2000-01-01 12:00:00</td>\n",
              "    </tr>\n",
              "    <tr>\n",
              "      <th>1</th>\n",
              "      <td>2</td>\n",
              "      <td>3.0</td>\n",
              "      <td>string2</td>\n",
              "      <td>2000-02-01</td>\n",
              "      <td>2000-01-02 12:00:00</td>\n",
              "    </tr>\n",
              "    <tr>\n",
              "      <th>2</th>\n",
              "      <td>3</td>\n",
              "      <td>4.0</td>\n",
              "      <td>string3</td>\n",
              "      <td>2000-03-01</td>\n",
              "      <td>2000-01-03 12:00:00</td>\n",
              "    </tr>\n",
              "  </tbody>\n",
              "</table>\n",
              "</div>"
            ],
            "text/plain": [
              "   a    b        c           d                   e\n",
              "0  1  2.0  string1  2000-01-01 2000-01-01 12:00:00\n",
              "1  2  3.0  string2  2000-02-01 2000-01-02 12:00:00\n",
              "2  3  4.0  string3  2000-03-01 2000-01-03 12:00:00"
            ]
          },
          "metadata": {},
          "execution_count": 44
        }
      ]
    },
    {
      "cell_type": "code",
      "metadata": {
        "colab": {
          "base_uri": "https://localhost:8080/"
        },
        "id": "CJe1twSqRVIu",
        "outputId": "bdf12f67-7af3-42ca-9186-ac6f924735ba"
      },
      "source": [
        "#DataFrame.mapInPandas which allows users directly use the APIs in a pandas DataFrame without any restrictions such as the result length.\n",
        "\n",
        "def pandas_filter_fun(iterator):\n",
        "  for pandas_df in iterator:\n",
        "    yield pandas_df[pandas_df.a == 1]\n",
        "\n",
        "df.mapInPandas(pandas_filter_fun,schema=df.schema).show()"
      ],
      "execution_count": 47,
      "outputs": [
        {
          "output_type": "stream",
          "name": "stdout",
          "text": [
            "+---+---+-------+----------+-------------------+\n",
            "|  a|  b|      c|         d|                  e|\n",
            "+---+---+-------+----------+-------------------+\n",
            "|  1|2.0|string1|2000-01-01|2000-01-01 12:00:00|\n",
            "|  2|3.0|string2|2000-02-01|2000-01-02 12:00:00|\n",
            "|  3|4.0|string3|2000-03-01|2000-01-03 12:00:00|\n",
            "+---+---+-------+----------+-------------------+\n",
            "\n"
          ]
        }
      ]
    },
    {
      "cell_type": "code",
      "metadata": {
        "colab": {
          "base_uri": "https://localhost:8080/",
          "height": 227
        },
        "id": "6mC7EBWkSZf3",
        "outputId": "a8c01859-2b22-4f4d-f03f-c423837e9e8f"
      },
      "source": [
        "#Grouping Data\n",
        "\"\"\"PySpark DataFrame also provides a way of handling grouped data by using the common approach, split-apply-combine strategy. \n",
        "It groups the data by a certain condition applies a function to each group and then combines them back to the DataFrame.\"\"\"\n",
        "\n",
        "df = spark.createDataFrame([\n",
        "                            ['red','banana',1,10],['blue', 'banana', 2, 20], ['red', 'carrot', 3, 30],\n",
        "    ['blue', 'grape', 4, 40], ['red', 'carrot', 5, 50], ['black', 'carrot', 6, 60],\n",
        "    ['red', 'banana', 7, 70], ['red', 'grape', 8, 80]], schema = ['color','fruit','v1','v2'])\n",
        "\n",
        "df"
      ],
      "execution_count": 49,
      "outputs": [
        {
          "output_type": "execute_result",
          "data": {
            "text/html": [
              "<table border='1'>\n",
              "<tr><th>color</th><th>fruit</th><th>v1</th><th>v2</th></tr>\n",
              "<tr><td>red</td><td>banana</td><td>1</td><td>10</td></tr>\n",
              "<tr><td>blue</td><td>banana</td><td>2</td><td>20</td></tr>\n",
              "<tr><td>red</td><td>carrot</td><td>3</td><td>30</td></tr>\n",
              "<tr><td>blue</td><td>grape</td><td>4</td><td>40</td></tr>\n",
              "<tr><td>red</td><td>carrot</td><td>5</td><td>50</td></tr>\n",
              "<tr><td>black</td><td>carrot</td><td>6</td><td>60</td></tr>\n",
              "<tr><td>red</td><td>banana</td><td>7</td><td>70</td></tr>\n",
              "<tr><td>red</td><td>grape</td><td>8</td><td>80</td></tr>\n",
              "</table>\n"
            ],
            "text/plain": [
              "+-----+------+---+---+\n",
              "|color| fruit| v1| v2|\n",
              "+-----+------+---+---+\n",
              "|  red|banana|  1| 10|\n",
              "| blue|banana|  2| 20|\n",
              "|  red|carrot|  3| 30|\n",
              "| blue| grape|  4| 40|\n",
              "|  red|carrot|  5| 50|\n",
              "|black|carrot|  6| 60|\n",
              "|  red|banana|  7| 70|\n",
              "|  red| grape|  8| 80|\n",
              "+-----+------+---+---+"
            ]
          },
          "metadata": {},
          "execution_count": 49
        }
      ]
    },
    {
      "cell_type": "code",
      "metadata": {
        "colab": {
          "base_uri": "https://localhost:8080/"
        },
        "id": "-jgesPRyUfXf",
        "outputId": "e352073d-4937-498f-f284-701e50255155"
      },
      "source": [
        "df.groupby('color').avg().show()"
      ],
      "execution_count": 50,
      "outputs": [
        {
          "output_type": "stream",
          "name": "stdout",
          "text": [
            "+-----+-------+-------+\n",
            "|color|avg(v1)|avg(v2)|\n",
            "+-----+-------+-------+\n",
            "|  red|    4.8|   48.0|\n",
            "|black|    6.0|   60.0|\n",
            "| blue|    3.0|   30.0|\n",
            "+-----+-------+-------+\n",
            "\n"
          ]
        }
      ]
    },
    {
      "cell_type": "code",
      "metadata": {
        "colab": {
          "base_uri": "https://localhost:8080/"
        },
        "id": "I78KZu-JU2QV",
        "outputId": "10d0ab01-cd8d-4370-a7d8-ea1469907d9f"
      },
      "source": [
        "df.filter(df.color == 'red'). groupby('color').avg().show()"
      ],
      "execution_count": 54,
      "outputs": [
        {
          "output_type": "stream",
          "name": "stdout",
          "text": [
            "+-----+-------+-------+\n",
            "|color|avg(v1)|avg(v2)|\n",
            "+-----+-------+-------+\n",
            "|  red|    4.8|   48.0|\n",
            "+-----+-------+-------+\n",
            "\n"
          ]
        }
      ]
    },
    {
      "cell_type": "code",
      "metadata": {
        "colab": {
          "base_uri": "https://localhost:8080/"
        },
        "id": "x3WFiDA4VFOs",
        "outputId": "3b24a71f-5a9c-4e30-87a9-e749f759fb62"
      },
      "source": [
        "#apply a Python native function against each group by using pandas APIs\n",
        "def plus_mean(pandas_df):\n",
        "    return pandas_df.assign(v1=pandas_df.v1 - pandas_df.v1.mean())\n",
        "\n",
        "df.groupby('color').applyInPandas(plus_mean, schema=df.schema).show()"
      ],
      "execution_count": 55,
      "outputs": [
        {
          "output_type": "stream",
          "name": "stdout",
          "text": [
            "+-----+------+---+---+\n",
            "|color| fruit| v1| v2|\n",
            "+-----+------+---+---+\n",
            "|  red|banana| -3| 10|\n",
            "|  red|carrot| -1| 30|\n",
            "|  red|carrot|  0| 50|\n",
            "|  red|banana|  2| 70|\n",
            "|  red| grape|  3| 80|\n",
            "|black|carrot|  0| 60|\n",
            "| blue|banana| -1| 20|\n",
            "| blue| grape|  1| 40|\n",
            "+-----+------+---+---+\n",
            "\n"
          ]
        }
      ]
    },
    {
      "cell_type": "code",
      "metadata": {
        "colab": {
          "base_uri": "https://localhost:8080/"
        },
        "id": "8mlfCYNxVuWc",
        "outputId": "6faf3d0d-60eb-4345-8810-808902b78df4"
      },
      "source": [
        "#Co-grouping and applying a function\n",
        "df1 = spark.createDataFrame(\n",
        "    [(20000101, 1, 1.0), (20000101, 2, 2.0), (20000102, 1, 3.0), (20000102, 2, 4.0)],\n",
        "    ('time', 'id', 'v1'))\n",
        "\n",
        "df2 = spark.createDataFrame(\n",
        "    [(20000101, 1, 'x'), (20000101, 2, 'y')],\n",
        "    ('time', 'id', 'v2'))\n",
        "\n",
        "def asof_join(l, r):\n",
        "    return pd.merge_asof(l, r, on='time', by='id')\n",
        "\n",
        "df1.groupby('id').cogroup(df2.groupby('id')).applyInPandas(\n",
        "    asof_join, schema='time int, id int, v1 double, v2 string').show()"
      ],
      "execution_count": 56,
      "outputs": [
        {
          "output_type": "stream",
          "name": "stdout",
          "text": [
            "+--------+---+---+---+\n",
            "|    time| id| v1| v2|\n",
            "+--------+---+---+---+\n",
            "|20000101|  1|1.0|  x|\n",
            "|20000102|  1|3.0|  x|\n",
            "|20000101|  2|2.0|  y|\n",
            "|20000102|  2|4.0|  y|\n",
            "+--------+---+---+---+\n",
            "\n"
          ]
        }
      ]
    },
    {
      "cell_type": "code",
      "metadata": {
        "id": "am8PxH5qWsgF"
      },
      "source": [
        "#Getting data In/Out\n",
        "\"\"\"CSV is straightforward and easy to use. Parquet and ORC are efficient and compact file formats to read and write faster.\n",
        "There are many other data sources available in PySpark such as JDBC, text, binaryFile, Avro, etc. \"\"\"\n",
        "\n",
        "df.write.csv('foo.csv', header=True)"
      ],
      "execution_count": 57,
      "outputs": []
    },
    {
      "cell_type": "code",
      "metadata": {
        "colab": {
          "base_uri": "https://localhost:8080/"
        },
        "id": "rdh7S58zXZSj",
        "outputId": "93d3f1af-9081-439b-d7b6-0a9574ee2a68"
      },
      "source": [
        "spark.read.csv('foo.csv', header=True).show()"
      ],
      "execution_count": 58,
      "outputs": [
        {
          "output_type": "stream",
          "name": "stdout",
          "text": [
            "+-----+------+---+---+\n",
            "|color| fruit| v1| v2|\n",
            "+-----+------+---+---+\n",
            "|  red|banana|  1| 10|\n",
            "| blue|banana|  2| 20|\n",
            "|  red|carrot|  3| 30|\n",
            "| blue| grape|  4| 40|\n",
            "|  red|carrot|  5| 50|\n",
            "|black|carrot|  6| 60|\n",
            "|  red|banana|  7| 70|\n",
            "|  red| grape|  8| 80|\n",
            "+-----+------+---+---+\n",
            "\n"
          ]
        }
      ]
    },
    {
      "cell_type": "code",
      "metadata": {
        "colab": {
          "base_uri": "https://localhost:8080/"
        },
        "id": "LPQH8aIUXef8",
        "outputId": "210e6675-0101-476f-b91c-f9ea070a2ffe"
      },
      "source": [
        "df.write.parquet('bar.parquet')\n",
        "spark.read.parquet('bar.parquet').show()"
      ],
      "execution_count": 59,
      "outputs": [
        {
          "output_type": "stream",
          "name": "stdout",
          "text": [
            "+-----+------+---+---+\n",
            "|color| fruit| v1| v2|\n",
            "+-----+------+---+---+\n",
            "|  red|carrot|  5| 50|\n",
            "|black|carrot|  6| 60|\n",
            "|  red|banana|  7| 70|\n",
            "|  red| grape|  8| 80|\n",
            "|  red|banana|  1| 10|\n",
            "| blue|banana|  2| 20|\n",
            "|  red|carrot|  3| 30|\n",
            "| blue| grape|  4| 40|\n",
            "+-----+------+---+---+\n",
            "\n"
          ]
        }
      ]
    },
    {
      "cell_type": "code",
      "metadata": {
        "colab": {
          "base_uri": "https://localhost:8080/"
        },
        "id": "6zczaMobXhpT",
        "outputId": "d63696f3-b781-4dde-9cae-a0cfffc46ef8"
      },
      "source": [
        "df.write.orc('zoo.orc')\n",
        "spark.read.orc('zoo.orc').show()"
      ],
      "execution_count": 60,
      "outputs": [
        {
          "output_type": "stream",
          "name": "stdout",
          "text": [
            "+-----+------+---+---+\n",
            "|color| fruit| v1| v2|\n",
            "+-----+------+---+---+\n",
            "|  red|carrot|  5| 50|\n",
            "|black|carrot|  6| 60|\n",
            "|  red|banana|  7| 70|\n",
            "|  red| grape|  8| 80|\n",
            "|  red|banana|  1| 10|\n",
            "| blue|banana|  2| 20|\n",
            "|  red|carrot|  3| 30|\n",
            "| blue| grape|  4| 40|\n",
            "+-----+------+---+---+\n",
            "\n"
          ]
        }
      ]
    },
    {
      "cell_type": "code",
      "metadata": {
        "colab": {
          "base_uri": "https://localhost:8080/",
          "height": 66
        },
        "id": "EJUlwPUQXkNF",
        "outputId": "b288f81c-51af-4159-9d51-c17f67c06d34"
      },
      "source": [
        "#SQL\n",
        "#DataFrame and Spark SQL share the same execution engine so they can be interchangeably used seamlessly. \n",
        "#For example, you can register the DataFrame as a table and run a SQL easily as below:\n",
        "df.createOrReplaceTempView(\"tableA\")\n",
        "spark.sql(\"select count(*) from tableA\")"
      ],
      "execution_count": 62,
      "outputs": [
        {
          "output_type": "execute_result",
          "data": {
            "text/html": [
              "<table border='1'>\n",
              "<tr><th>count(1)</th></tr>\n",
              "<tr><td>8</td></tr>\n",
              "</table>\n"
            ],
            "text/plain": [
              "+--------+\n",
              "|count(1)|\n",
              "+--------+\n",
              "|       8|\n",
              "+--------+"
            ]
          },
          "metadata": {},
          "execution_count": 62
        }
      ]
    },
    {
      "cell_type": "code",
      "metadata": {
        "colab": {
          "base_uri": "https://localhost:8080/"
        },
        "id": "Ra3k6G5EX-I-",
        "outputId": "84c6f5ec-0bdd-47d1-eb05-755bbb5e9be0"
      },
      "source": [
        "#UDFs can be registered and invoked in SQL out of the box\n",
        "@pandas_udf(\"integer\")\n",
        "def add_one(s: pd.Series) -> pd.Series:\n",
        "    return s + 1\n",
        "\n",
        "spark.udf.register(\"add_one\", add_one)\n",
        "spark.sql(\"SELECT add_one(v1) FROM tableA\").show()"
      ],
      "execution_count": 63,
      "outputs": [
        {
          "output_type": "stream",
          "name": "stdout",
          "text": [
            "+-----------+\n",
            "|add_one(v1)|\n",
            "+-----------+\n",
            "|          2|\n",
            "|          3|\n",
            "|          4|\n",
            "|          5|\n",
            "|          6|\n",
            "|          7|\n",
            "|          8|\n",
            "|          9|\n",
            "+-----------+\n",
            "\n"
          ]
        }
      ]
    },
    {
      "cell_type": "code",
      "metadata": {
        "colab": {
          "base_uri": "https://localhost:8080/"
        },
        "id": "KTKWgdRmYIJ1",
        "outputId": "ca617c6d-9d97-417b-893b-56819bc5fc81"
      },
      "source": [
        "#SQL expressions can directly be mixed and used as PySpark columns\n",
        "from pyspark.sql.functions import expr\n",
        "\n",
        "df.selectExpr('add_one(v1)').show()\n",
        "df.select(expr('count(*)') > 0).show()"
      ],
      "execution_count": 64,
      "outputs": [
        {
          "output_type": "stream",
          "name": "stdout",
          "text": [
            "+-----------+\n",
            "|add_one(v1)|\n",
            "+-----------+\n",
            "|          2|\n",
            "|          3|\n",
            "|          4|\n",
            "|          5|\n",
            "|          6|\n",
            "|          7|\n",
            "|          8|\n",
            "|          9|\n",
            "+-----------+\n",
            "\n",
            "+--------------+\n",
            "|(count(1) > 0)|\n",
            "+--------------+\n",
            "|          true|\n",
            "+--------------+\n",
            "\n"
          ]
        }
      ]
    },
    {
      "cell_type": "code",
      "metadata": {
        "id": "RP6G7N3mYOx7"
      },
      "source": [
        ""
      ],
      "execution_count": null,
      "outputs": []
    }
  ]
}